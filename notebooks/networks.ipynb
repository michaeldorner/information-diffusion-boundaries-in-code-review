{
 "cells": [
  {
   "cell_type": "code",
   "execution_count": 2,
   "metadata": {},
   "outputs": [],
   "source": [
    "from pathlib import Path\n",
    "import sys\n",
    "import bz2\n",
    "\n",
    "import pandas as pd\n",
    "import matplotlib.pyplot as plt\n",
    "from tqdm.auto import tqdm\n",
    "import orjson\n",
    "\n",
    "sys.path.append(str(Path('../').resolve()))\n",
    "\n",
    "from simulation.model import CommunicationNetwork"
   ]
  },
  {
   "cell_type": "code",
   "execution_count": 3,
   "metadata": {},
   "outputs": [],
   "source": [
    "def load_channels(data_path):\n",
    "    with open(data_path, 'rb') as file:\n",
    "        d = orjson.loads(bz2.decompress(file.read()))\n",
    "    df = pd.DataFrame.from_dict(d, orient='index')\n",
    "    df.start = pd.to_datetime(df.start)\n",
    "    df.end = pd.to_datetime(df.end)\n",
    "    df.bound = df.bound.astype('category')\n",
    "    return df"
   ]
  },
  {
   "cell_type": "code",
   "execution_count": 4,
   "metadata": {},
   "outputs": [],
   "source": [
    "trivago_cn = CommunicationNetwork.from_json(Path('../data/networks/trivago.json.bz2'))\n",
    "spotify_cn = CommunicationNetwork.from_json(Path('../data/networks/spotify.json.bz2'))\n",
    "microsoft_cn = CommunicationNetwork.from_json(Path('../data/networks/microsoft.json.bz2'))"
   ]
  },
  {
   "cell_type": "code",
   "execution_count": 5,
   "metadata": {},
   "outputs": [],
   "source": [
    "communication_networks = {\n",
    "    'Trivago': trivago_cn, \n",
    "    'Spotify': spotify_cn, \n",
    "    'Microsoft': microsoft_cn, \n",
    "}"
   ]
  },
  {
   "cell_type": "code",
   "execution_count": 6,
   "metadata": {},
   "outputs": [
    {
     "name": "stdout",
     "output_type": "stream",
     "text": [
      "Trivago & small & \\num{2442} & \\num{364} & BitBucket \\\\\n",
      "Spotify & mid-sized & \\num{22504} & \\num{1730} & GitHub \\\\\n",
      "Microsoft & large & \\num{309740} & \\num{37103} & CodeFlow \\\\\n"
     ]
    }
   ],
   "source": [
    "code_review_tools = {\n",
    "    'Trivago': 'BitBucket', \n",
    "    'Spotify': 'GitHub', \n",
    "    'Microsoft': 'CodeFlow'\n",
    "}\n",
    "classification = {\n",
    "    'Trivago': 'small', \n",
    "    'Spotify': 'mid-sized', \n",
    "    'Microsoft': 'large'\n",
    "}\n",
    "for name, cn in communication_networks.items():\n",
    "    num_channels = len(cn.channels())\n",
    "    num_participants = len(cn.participants())\n",
    "    print(f'{name} & {classification[name]} & \\\\num{{{num_channels}}} & \\\\num{{{num_participants}}} & {code_review_tools[name]} \\\\\\\\')"
   ]
  },
  {
   "cell_type": "code",
   "execution_count": 7,
   "metadata": {},
   "outputs": [],
   "source": [
    "results = []\n",
    "for name, cn in communication_networks.items():\n",
    "    results += [pd.DataFrame([(name, len(cn.channels(participant))) for participant in cn.participants()], columns=['name', 'num_code_reviews'])]\n",
    "df = pd.concat(results).reset_index(drop=True)"
   ]
  },
  {
   "cell_type": "code",
   "execution_count": 8,
   "metadata": {},
   "outputs": [
    {
     "data": {
      "text/html": [
       "<div>\n",
       "<style scoped>\n",
       "    .dataframe tbody tr th:only-of-type {\n",
       "        vertical-align: middle;\n",
       "    }\n",
       "\n",
       "    .dataframe tbody tr th {\n",
       "        vertical-align: top;\n",
       "    }\n",
       "\n",
       "    .dataframe thead th {\n",
       "        text-align: right;\n",
       "    }\n",
       "</style>\n",
       "<table border=\"1\" class=\"dataframe\">\n",
       "  <thead>\n",
       "    <tr style=\"text-align: right;\">\n",
       "      <th></th>\n",
       "      <th>name</th>\n",
       "      <th>num_code_reviews</th>\n",
       "    </tr>\n",
       "  </thead>\n",
       "  <tbody>\n",
       "    <tr>\n",
       "      <th>30801</th>\n",
       "      <td>Microsoft</td>\n",
       "      <td>8249</td>\n",
       "    </tr>\n",
       "    <tr>\n",
       "      <th>10154</th>\n",
       "      <td>Microsoft</td>\n",
       "      <td>7691</td>\n",
       "    </tr>\n",
       "    <tr>\n",
       "      <th>12762</th>\n",
       "      <td>Microsoft</td>\n",
       "      <td>6684</td>\n",
       "    </tr>\n",
       "    <tr>\n",
       "      <th>32309</th>\n",
       "      <td>Microsoft</td>\n",
       "      <td>2040</td>\n",
       "    </tr>\n",
       "    <tr>\n",
       "      <th>20085</th>\n",
       "      <td>Microsoft</td>\n",
       "      <td>1056</td>\n",
       "    </tr>\n",
       "    <tr>\n",
       "      <th>15555</th>\n",
       "      <td>Microsoft</td>\n",
       "      <td>1008</td>\n",
       "    </tr>\n",
       "    <tr>\n",
       "      <th>34337</th>\n",
       "      <td>Microsoft</td>\n",
       "      <td>630</td>\n",
       "    </tr>\n",
       "    <tr>\n",
       "      <th>14409</th>\n",
       "      <td>Microsoft</td>\n",
       "      <td>605</td>\n",
       "    </tr>\n",
       "    <tr>\n",
       "      <th>35231</th>\n",
       "      <td>Microsoft</td>\n",
       "      <td>592</td>\n",
       "    </tr>\n",
       "    <tr>\n",
       "      <th>24856</th>\n",
       "      <td>Microsoft</td>\n",
       "      <td>582</td>\n",
       "    </tr>\n",
       "    <tr>\n",
       "      <th>32534</th>\n",
       "      <td>Microsoft</td>\n",
       "      <td>576</td>\n",
       "    </tr>\n",
       "    <tr>\n",
       "      <th>18625</th>\n",
       "      <td>Microsoft</td>\n",
       "      <td>568</td>\n",
       "    </tr>\n",
       "    <tr>\n",
       "      <th>7620</th>\n",
       "      <td>Microsoft</td>\n",
       "      <td>539</td>\n",
       "    </tr>\n",
       "    <tr>\n",
       "      <th>1487</th>\n",
       "      <td>Spotify</td>\n",
       "      <td>447</td>\n",
       "    </tr>\n",
       "  </tbody>\n",
       "</table>\n",
       "</div>"
      ],
      "text/plain": [
       "            name  num_code_reviews\n",
       "30801  Microsoft              8249\n",
       "10154  Microsoft              7691\n",
       "12762  Microsoft              6684\n",
       "32309  Microsoft              2040\n",
       "20085  Microsoft              1056\n",
       "15555  Microsoft              1008\n",
       "34337  Microsoft               630\n",
       "14409  Microsoft               605\n",
       "35231  Microsoft               592\n",
       "24856  Microsoft               582\n",
       "32534  Microsoft               576\n",
       "18625  Microsoft               568\n",
       "7620   Microsoft               539\n",
       "1487     Spotify               447"
      ]
     },
     "execution_count": 8,
     "metadata": {},
     "output_type": "execute_result"
    }
   ],
   "source": [
    "df.sort_values('num_code_reviews', ascending=False).head(14)"
   ]
  },
  {
   "cell_type": "code",
   "execution_count": 9,
   "metadata": {},
   "outputs": [
    {
     "data": {
      "text/plain": [
       "3.125"
      ]
     },
     "execution_count": 9,
     "metadata": {},
     "output_type": "execute_result"
    }
   ],
   "source": [
    "500/(20*8)"
   ]
  },
  {
   "cell_type": "code",
   "execution_count": 10,
   "metadata": {},
   "outputs": [
    {
     "data": {
      "text/plain": [
       "51.55625"
      ]
     },
     "execution_count": 10,
     "metadata": {},
     "output_type": "execute_result"
    }
   ],
   "source": [
    "8249/(20*8)"
   ]
  },
  {
   "cell_type": "code",
   "execution_count": 11,
   "metadata": {},
   "outputs": [],
   "source": [
    "bounds = pd.concat([load_channels(Path(f'../data/networks/{name}.json.bz2')).bound.value_counts(normalize=True).rename(name.capitalize()) for name in ('trivago', 'spotify', 'microsoft')], axis=1)"
   ]
  },
  {
   "cell_type": "code",
   "execution_count": 12,
   "metadata": {},
   "outputs": [
    {
     "data": {
      "text/plain": [
       "<Axes: >"
      ]
     },
     "execution_count": 12,
     "metadata": {},
     "output_type": "execute_result"
    },
    {
     "data": {
      "image/png": "[encoded data removed]",
      "text/plain": [
       "<Figure size 640x480 with 1 Axes>"
      ]
     },
     "metadata": {},
     "output_type": "display_data"
    }
   ],
   "source": [
    "bounds.transpose().plot(kind='bar', stacked=True)"
   ]
  },
  {
   "cell_type": "code",
   "execution_count": 15,
   "metadata": {},
   "outputs": [],
   "source": [
    "bounds.transpose().to_csv(f'../reports/csv/bounds.csv', index_label='index', float_format='%g')"
   ]
  },
  {
   "cell_type": "code",
   "execution_count": 14,
   "metadata": {},
   "outputs": [
    {
     "data": {
      "text/html": [
       "<div>\n",
       "<style scoped>\n",
       "    .dataframe tbody tr th:only-of-type {\n",
       "        vertical-align: middle;\n",
       "    }\n",
       "\n",
       "    .dataframe tbody tr th {\n",
       "        vertical-align: top;\n",
       "    }\n",
       "\n",
       "    .dataframe thead th {\n",
       "        text-align: right;\n",
       "    }\n",
       "</style>\n",
       "<table border=\"1\" class=\"dataframe\">\n",
       "  <thead>\n",
       "    <tr style=\"text-align: right;\">\n",
       "      <th>bound</th>\n",
       "      <th>bounded</th>\n",
       "      <th>left-bounded</th>\n",
       "      <th>right-bounded</th>\n",
       "      <th>unbounded</th>\n",
       "    </tr>\n",
       "  </thead>\n",
       "  <tbody>\n",
       "    <tr>\n",
       "      <th>Trivago</th>\n",
       "      <td>0.778870</td>\n",
       "      <td>0.108927</td>\n",
       "      <td>0.089681</td>\n",
       "      <td>0.022523</td>\n",
       "    </tr>\n",
       "    <tr>\n",
       "      <th>Spotify</th>\n",
       "      <td>0.864780</td>\n",
       "      <td>0.070476</td>\n",
       "      <td>0.061100</td>\n",
       "      <td>0.003644</td>\n",
       "    </tr>\n",
       "    <tr>\n",
       "      <th>Microsoft</th>\n",
       "      <td>0.693653</td>\n",
       "      <td>0.209624</td>\n",
       "      <td>0.059130</td>\n",
       "      <td>0.037593</td>\n",
       "    </tr>\n",
       "  </tbody>\n",
       "</table>\n",
       "</div>"
      ],
      "text/plain": [
       "bound       bounded  left-bounded  right-bounded  unbounded\n",
       "Trivago    0.778870      0.108927       0.089681   0.022523\n",
       "Spotify    0.864780      0.070476       0.061100   0.003644\n",
       "Microsoft  0.693653      0.209624       0.059130   0.037593"
      ]
     },
     "execution_count": 14,
     "metadata": {},
     "output_type": "execute_result"
    }
   ],
   "source": [
    "bounds.transpose()"
   ]
  },
  {
   "cell_type": "code",
   "execution_count": null,
   "metadata": {},
   "outputs": [],
   "source": []
  }
 ],
 "metadata": {
  "kernelspec": {
   "display_name": "Python 3.10.6 64-bit",
   "language": "python",
   "name": "python3"
  },
  "language_info": {
   "codemirror_mode": {
    "name": "ipython",
    "version": 3
   },
   "file_extension": ".py",
   "mimetype": "text/x-python",
   "name": "python",
   "nbconvert_exporter": "python",
   "pygments_lexer": "ipython3",
   "version": "3.11.3"
  },
  "orig_nbformat": 4,
  "vscode": {
   "interpreter": {
    "hash": "aee8b7b246df8f9039afb4144a1f6fd8d2ca17a180786b69acc140d282b71a49"
   }
  }
 },
 "nbformat": 4,
 "nbformat_minor": 2
}
